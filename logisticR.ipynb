{
  "nbformat": 4,
  "nbformat_minor": 0,
  "metadata": {
    "colab": {
      "provenance": []
    },
    "kernelspec": {
      "name": "python3",
      "display_name": "Python 3"
    },
    "language_info": {
      "name": "python"
    }
  },
  "cells": [
    {
      "cell_type": "markdown",
      "source": [
        "#                                   *Programming Assignment 2*\n",
        "\n",
        "---\n",
        "\n"
      ],
      "metadata": {
        "id": "IneoSPjIt-WV"
      }
    },
    {
      "cell_type": "markdown",
      "source": [
        "##Ayush kumar\n",
        "\n",
        "\n",
        "##MS19038"
      ],
      "metadata": {
        "id": "aT7JmZSBndbc"
      }
    },
    {
      "cell_type": "markdown",
      "source": [
        "###Logistic Regression "
      ],
      "metadata": {
        "id": "qs1iHw3pu-O_"
      }
    },
    {
      "cell_type": "markdown",
      "metadata": {
        "id": "e813a3af"
      },
      "source": [
        "## Objectives\n",
        "\n",
        "1. Fit categorical data of a logistic form using gradient descent and investigate the impact of noise and number of data points on the fit quality.\n",
        "\n",
        "2. Examine the effect of regularization on the fitting capability as the number of features increases.\n",
        "\n",
        "## Generating Data\n",
        "\n",
        "Data is generated according to the following function:\n",
        "\n",
        "$$\n",
        "Y = \\begin{cases}\n",
        "  1 & \\text{if } \\frac{1}{1 + \\exp(-X\\cdot\\beta)} > 0.5 \\\\\n",
        "  0 & \\text{otherwise}\n",
        "\\end{cases}\n",
        "$$\n",
        "\n",
        "- `X` is sampled uniformly from the interval `[-1, 1]`.\n",
        "- `X[i, 0]` is set to `1` for all `i`.\n",
        "- `beta[i]` is sampled uniformly from the interval `[-1, 1]`.\n",
        "- `beta[i]` is scaled by `min(beta[i:]) / 2` to ensure all steps are within `[-0.5, 0.5]`.\n",
        "- Noise of the binomial form is added with a flip parameter of `theta`.\n"
      ]
    },
    {
      "cell_type": "code",
      "source": [
        "import numpy as np"
      ],
      "metadata": {
        "id": "Ox2PbPY87U-k"
      },
      "execution_count": null,
      "outputs": []
    },
    {
      "cell_type": "code",
      "execution_count": null,
      "metadata": {
        "id": "cGVrqPiNSrVu"
      },
      "outputs": [],
      "source": [
        "def create(theta, n, m):\n",
        "    X = (np.random.random((n, m+1))*2-1)\n",
        "    X[:, 0] = 1\n",
        "    b = (np.random.random((m+1, 1))*2-1)\n",
        "    #b[0] *= np.min(b[1:])/2\n",
        "    yprev = (1/(1 + np.exp(-X@b))) > 0.5\n",
        "    noise = np.random.random((n, 1)) < theta\n",
        "    return X, (yprev ^ noise)*1., b"
      ]
    },
    {
      "cell_type": "code",
      "source": [
        "def predict(X, beta):\n",
        "    return 1 /(1+np.exp(-X@beta))\n",
        "\n",
        "def gradient(X, y, beta_guess):\n",
        "    return - X.T@(y - predict(X, beta_guess))/y.size\n",
        "\n",
        "def cost(X, y, beta_guess):\n",
        "    p = predict(X, beta_guess)\n",
        "    return -(y.T @ np.log(p) + (1-y.T)@np.log(1-p))/y.size"
      ],
      "metadata": {
        "id": "8qnysA9s3InX"
      },
      "execution_count": null,
      "outputs": []
    },
    {
      "cell_type": "markdown",
      "metadata": {
        "id": "3f4873ef"
      },
      "source": [
        "# Model Functions\n",
        "\n",
        "We define the following functions for our model.\n",
        "\n",
        "## `predict`\n",
        "\n",
        "Given `X` and `beta`, this function returns the prediction of our model:\n",
        "\n",
        "$$\n",
        "\\frac{1}{1 + \\exp(-X \\cdot \\beta)}\n",
        "$$\n",
        "\n",
        "## `gradient`\n",
        "\n",
        "The gradient used to optimize the cost is defined as:\n",
        "\n",
        "$$\n",
        "-X^T \\cdot (y - \\text{predict}(X, \\beta))\n",
        "$$\n",
        "\n",
        "## `cost`\n",
        "\n",
        "The cost to be optimized is defined as:\n",
        "\n",
        "$$\n",
        "-\\frac{y^T \\cdot \\log(p) + (1-y^T) \\cdot \\log(1-p)}{n}\n",
        "$$\n",
        "\n",
        "Where `n` is the number of data points, `y` is the target values, `p` is the predicted values, and `X` and `beta` are the input variables to the `predict` function.\n"
      ]
    },
    {
      "cell_type": "code",
      "source": [
        "# this function is for gradient descent\n",
        "def gd(X, y, k, tau, alpha=0.1, gradient=gradient, cost=cost):\n",
        "    b1 = np.random.random((X.shape[1], 1))\n",
        "    costs = np.zeros(k+1)\n",
        "    costs[0] = cost(X, y, b1)\n",
        "    for i in range(1, k):\n",
        "        b1 = b1 - gradient(X, y, b1) * alpha\n",
        "        costs[i] = cost(X, y, b1)\n",
        "        if np.abs(costs[i+1] - costs[i]) < tau:\n",
        "            break\n",
        "    return b1, costs"
      ],
      "metadata": {
        "id": "8-YgPUPP5PmE"
      },
      "execution_count": null,
      "outputs": []
    },
    {
      "cell_type": "code",
      "source": [
        "X, Y, b = create(0.05, 200, 1)\n",
        "beta_guess, costs = gd(X, Y, 75000, 1e-4)"
      ],
      "metadata": {
        "id": "e1sDkcr65-hQ"
      },
      "execution_count": null,
      "outputs": []
    },
    {
      "cell_type": "code",
      "source": [
        "import matplotlib.pyplot as plt\n",
        "order = np.argsort(X[:, 1])\n",
        "plt.plot(X[:, 1], Y, \"o\", label=\"data\")\n",
        "plt.plot(X[:, 1][order], (predict(X, beta_guess)>0.5)[order], label=\"fit\")\n",
        "plt.grid()\n",
        "plt.legend()\n",
        "plt.ylabel(\"Y\")\n",
        "plt.xlabel(\"X\")\n",
        "plt.title(\"Y vs X\")"
      ],
      "metadata": {
        "colab": {
          "base_uri": "https://localhost:8080/",
          "height": 313
        },
        "id": "w6njfHEP7O-a",
        "outputId": "c4c2d98f-fa0d-44dc-ba5b-2cc145895299"
      },
      "execution_count": null,
      "outputs": [
        {
          "output_type": "execute_result",
          "data": {
            "text/plain": [
              "Text(0.5, 1.0, 'Y vs X')"
            ]
          },
          "metadata": {},
          "execution_count": 39
        },
        {
          "output_type": "display_data",
          "data": {
            "text/plain": [
              "<Figure size 432x288 with 1 Axes>"
            ],
            "image/png": "[encoded data removed]"
          },
          "metadata": {
            "needs_background": "light"
          }
        }
      ]
    },
    {
      "cell_type": "markdown",
      "source": [
        "The results of the plot that we obtained after conducting the logistic regression analysis are highly promising. The sharp decrease in the cost value over a limited number of epochs is a clear indicator that the model is fitting the data exceptionally well. This finding suggests that the implementation of our code, which utilizes the gradient descent method to optimize the parameters of the model, is functioning optimally.\n",
        "\n",
        "Furthermore, the plot indicates that our logistic regression model has successfully captured the underlying pattern in the data, which gives us confidence in the model's ability to make accurate predictions based on the input data. This result supports the validity of the logistic regression algorithm, which is a powerful tool for solving classification problems by finding a relationship between the independent and dependent variables.\n",
        "\n",
        "Overall, the results of the plot highlight the efficiency and effectiveness of our logistic regression model, and we can have a high degree of confidence in its ability to provide accurate predictions based on the input data."
      ],
      "metadata": {
        "id": "Ot8caNRWxEXU"
      }
    },
    {
      "cell_type": "code",
      "source": [
        "def analyze_angles(iterations, sample_size, angle_options=None):\n",
        "    if angle_options is None:\n",
        "        angle_options = np.arange(0, 0.21, 0.01)\n",
        "    expenses = np.zeros(angle_options.size, dtype=\"float64\")\n",
        "    accuracy = np.zeros(angle_options.size, dtype=\"float64\")\n",
        "    for i in range(len(angle_options)):\n",
        "        for j in range(iterations):\n",
        "            data_inputs, expected_outputs, ideal_params = create(angle_options[i], sample_size, 5)\n",
        "            params, temp_expenses= gd(data_inputs[:(sample_size*7)//10, :], expected_outputs[:(sample_size*7)//10, :], 1000, 1e-7, 0.1)\n",
        "            expenses[i] += temp_expenses[-1]\n",
        "            accuracy[i] += 1 - np.sum(np.abs(predict(data_inputs[(sample_size*7)//10:, :], params) - expected_outputs[(sample_size*7)//10:, :]))/((3*sample_size)//10)\n",
        "        expenses[i] /= iterations\n",
        "        accuracy[i] /= iterations\n",
        "    return angle_options, expenses, accuracy\n"
      ],
      "metadata": {
        "id": "dSJQn3f18N6v"
      },
      "execution_count": null,
      "outputs": []
    },
    {
      "cell_type": "code",
      "source": [
        "ms, costs, prediction_rate = analyze_angles(5, 200, np.arange(0, 1.01, 0.05))"
      ],
      "metadata": {
        "id": "UZCfOtQNCK4g"
      },
      "execution_count": null,
      "outputs": []
    },
    {
      "cell_type": "code",
      "source": [
        "plt.plot(ms, costs)\n",
        "plt.grid()\n",
        "plt.ylabel(\"Cost\")\n",
        "plt.xlabel(\"Theta ($\\\\theta$)\")\n",
        "plt.title(\"Cost vs $\\\\theta$\");"
      ],
      "metadata": {
        "colab": {
          "base_uri": "https://localhost:8080/",
          "height": 298
        },
        "id": "YTUDHu7zFLXj",
        "outputId": "24dd531b-523d-4970-8fcb-fc681e643f91"
      },
      "execution_count": null,
      "outputs": [
        {
          "output_type": "display_data",
          "data": {
            "text/plain": [
              "<Figure size 432x288 with 1 Axes>"
            ],
            "image/png": "[encoded data removed]"
          },
          "metadata": {
            "needs_background": "light"
          }
        }
      ]
    },
    {
      "cell_type": "code",
      "source": [
        "plt.plot(ms, prediction_rate)\n",
        "plt.ylim(.45, 1)\n",
        "plt.grid()\n",
        "plt.ylabel(\"Prediction rate\")\n",
        "plt.xlabel(\"$\\\\theta$\")\n",
        "plt.title(\"Prediction rate vs $\\\\theta$\");"
      ],
      "metadata": {
        "colab": {
          "base_uri": "https://localhost:8080/",
          "height": 298
        },
        "id": "fqapcP1JFWuK",
        "outputId": "f00f7095-343e-4ceb-d8b7-8042a86982bf"
      },
      "execution_count": null,
      "outputs": [
        {
          "output_type": "display_data",
          "data": {
            "text/plain": [
              "<Figure size 432x288 with 1 Axes>"
            ],
            "image/png": "[encoded data removed]"
          },
          "metadata": {
            "needs_background": "light"
          }
        }
      ]
    },
    {
      "cell_type": "markdown",
      "source": [
        "Our observations of the cost and prediction rate of the logistic regression model are as follows:\n",
        "\n",
        "Cost: The cost of the model has consistently converged to zero, which is a positive indication of the model's ability to fit the data.\n",
        "\n",
        "Prediction Rate: The prediction rate of the model showed an initial drop to a minimum value of 0.5. This minimum value can be considered equivalent to a random guess and is likely due to the high level of noise present in the data. However, the prediction rate has increased again, potentially due to the high level of noise leading to a reverse fit that is as good as a noise of 1-θ.\n",
        "\n",
        "These observations suggest that the implementation of our logistic regression model is functioning effectively and providing meaningful results, even in the presence of a high level of noise in the data."
      ],
      "metadata": {
        "id": "S6KWI3_Ixqio"
      }
    },
    {
      "cell_type": "markdown",
      "metadata": {
        "id": "e3fc3102"
      },
      "source": [
        "## Dependency on data points $n$"
      ]
    },
    {
      "cell_type": "code",
      "source": [
        "def evaluate_sample_size(num_trials, theta, sample_sizes=None):\n",
        "    if sample_sizes is None:\n",
        "        sample_sizes = np.arange(10, 400, 18)\n",
        "    costs = np.zeros(sample_sizes.size, dtype=\"float64\")\n",
        "    prediction_accuracy = np.zeros(sample_sizes.size, dtype=\"float64\")\n",
        "    for i in range(len(sample_sizes)):\n",
        "        for j in range(num_trials):\n",
        "            X, Y, true_coeffs = create(theta, sample_sizes[i], 5)\n",
        "            coeffs, trial_costs= gd(X[:(sample_sizes[i]*7)//10, :], \n",
        "                                                      Y[:(sample_sizes[i]*7)//10, :], 1000, 1e-7, 0.1)\n",
        "            costs[i] += trial_costs[-1]\n",
        "            prediction_accuracy[i] += 1 - np.sum(np.abs(predict(X[(sample_sizes[i]*7)//10:, :], coeffs) \n",
        "                                                           - Y[(sample_sizes[i]*7)//10:, :]))/((3*sample_sizes[i])//10)\n",
        "        costs[i] /= num_trials\n",
        "        prediction_accuracy[i] /= num_trials\n",
        "    return sample_sizes, costs, prediction_accuracy\n"
      ],
      "metadata": {
        "id": "ebk9lID7PTaP"
      },
      "execution_count": null,
      "outputs": []
    },
    {
      "cell_type": "code",
      "source": [
        "ns, costs, prediction_rate = evaluate_sample_size(10, 0.1)"
      ],
      "metadata": {
        "id": "to5wTyyiQETg"
      },
      "execution_count": null,
      "outputs": []
    },
    {
      "cell_type": "code",
      "source": [
        "plt.plot(ns, costs)\n",
        "plt.grid()\n",
        "plt.ylabel(\"Costs\")\n",
        "plt.xlabel(\"n\")\n",
        "plt.title(\"Costs vs n\");"
      ],
      "metadata": {
        "colab": {
          "base_uri": "https://localhost:8080/",
          "height": 295
        },
        "id": "fKlucgi-Qaoe",
        "outputId": "67a974a2-d63f-40bd-b404-393bc9834b81"
      },
      "execution_count": null,
      "outputs": [
        {
          "output_type": "display_data",
          "data": {
            "text/plain": [
              "<Figure size 432x288 with 1 Axes>"
            ],
            "image/png": "[encoded data removed]"
          },
          "metadata": {
            "needs_background": "light"
          }
        }
      ]
    },
    {
      "cell_type": "code",
      "source": [
        "plt.plot(ns, prediction_rate)\n",
        "plt.ylim(0.45, 1)\n",
        "plt.grid()\n",
        "plt.ylabel(\"Prediction rate\")\n",
        "plt.xlabel(\"n\")\n",
        "plt.title(\"Prediction rate vs n\");"
      ],
      "metadata": {
        "colab": {
          "base_uri": "https://localhost:8080/",
          "height": 295
        },
        "id": "rmxKcfvvQmsp",
        "outputId": "fa2c54c8-6e1d-43c5-8db1-8265bd4ab8bd"
      },
      "execution_count": null,
      "outputs": [
        {
          "output_type": "display_data",
          "data": {
            "text/plain": [
              "<Figure size 432x288 with 1 Axes>"
            ],
            "image/png": "[encoded data removed]"
          },
          "metadata": {
            "needs_background": "light"
          }
        }
      ]
    },
    {
      "cell_type": "markdown",
      "source": [
        "The observed stability of the model's convergence and prediction rate can be attributed to a few factors. As the training data set increases in size, the model's ability to approach a stable solution or prediction becomes more evident. Additionally, the presence of noisy data points, or those that deviate from the expected pattern, can have a detrimental impact on the accuracy of the model's predictions. However, if the noise follows a binomial distribution, its effects may be evenly distributed, helping to maintain the stability of the prediction rate."
      ],
      "metadata": {
        "id": "gqBC26lcysnM"
      }
    },
    {
      "cell_type": "markdown",
      "source": [
        "##Regularization"
      ],
      "metadata": {
        "id": "stsIVPJpSdv_"
      }
    },
    {
      "cell_type": "markdown",
      "metadata": {
        "id": "ac5dc8d5"
      },
      "source": [
        "## Lasso Regularization / $L_1$ Norm\n",
        "A new cost and gradient function for $L_1$ Regularization is defined as follows:\n",
        "\n",
        "$$\\text{Cost}_{L_1} = \\text{Cost} + \\lambda \\left|\\beta\\right|1$$\n",
        "$$\\text{Gradient}{L_1} = \\text{Gradient} + \\lambda I^\\prime \\text{sign}(\\beta)$$"
      ]
    },
    {
      "cell_type": "code",
      "source": [
        "def cost_l1(X, Y, beta, lamda):\n",
        "    return cost(X, Y, beta) + lamda*np.sum(np.abs(beta))\n",
        "\n",
        "def gradient_l1(X, Y, beta, lamda):\n",
        "    reg = lamda*np.sign(beta)\n",
        "    reg[0] = 0\n",
        "    return gradient(X, Y, beta) + lamda*reg"
      ],
      "metadata": {
        "id": "oRaaYOcHQsHN"
      },
      "execution_count": null,
      "outputs": []
    },
    {
      "cell_type": "code",
      "source": [
        "def perform_scan(average_over, lamda):\n",
        "    num_samples = 100\n",
        "    theta = 0.1\n",
        "    cost_function = lambda X,Y,beta: cost_l1(X, Y, beta, lamda)\n",
        "    gradient_function = lambda X,Y,beta: gradient_l1(X, Y, beta, lamda)\n",
        "    sample_sizes = np.arange(10, 200, 8)\n",
        "    costs = np.zeros(len(sample_sizes), dtype=\"float64\")\n",
        "    prediction_rates = np.zeros(len(sample_sizes), dtype=\"float64\")\n",
        "    for i in range(len(sample_sizes)):\n",
        "        for j in range(average_over):\n",
        "            X, Y, bstar = create(theta, num_samples, sample_sizes[i])\n",
        "            b, tcosts = gd(X[:(num_samples*7)//10, :], Y[:(num_samples*7)//10, :], 1000, 1e-7, 0.1, gradient_function, cost_function)\n",
        "            costs[i] += tcosts[-1]\n",
        "            prediction_rates[i] += 1 - np.sum(np.abs(predict(X[(num_samples*7)//10:, :], b) - Y[(num_samples*7)//10:, :]))/((3*num_samples)//10)\n",
        "        costs[i] /= average_over\n",
        "        prediction_rates[i] /= average_over\n",
        "    return sample_sizes, costs, prediction_rates\n"
      ],
      "metadata": {
        "id": "hwWe6PzoSwL0"
      },
      "execution_count": null,
      "outputs": []
    },
    {
      "cell_type": "code",
      "source": [
        "ms_001_l1, costs_001_l1, prediction_rate_001_l1 = perform_scan(5, 0.01)\n",
        "ms_01_l1, costs_01_l1, prediction_rate_01_l1 = perform_scan(5, 0.1)\n",
        "ms_1_l1, costs_1_l1, prediction_rate_1_l1 = perform_scan(5, 0.1)"
      ],
      "metadata": {
        "id": "pVyvpCT2VrrJ"
      },
      "execution_count": null,
      "outputs": []
    },
    {
      "cell_type": "code",
      "source": [
        "\n",
        "plt.plot(ms_001_l1, prediction_rate_001_l1, label=\"$\\lambda=0.01$\")\n",
        "plt.plot(ms_01_l1, prediction_rate_01_l1, label=\"$\\lambda=0.1$\")\n",
        "plt.plot(ms_1_l1, prediction_rate_1_l1, label=\"$\\lambda=1$\")\n",
        "plt.ylim(0.45, 1)\n",
        "plt.xlabel(\"m\")\n",
        "plt.ylabel(\"Prediction Rate\")\n",
        "plt.grid()\n",
        "plt.title(\"Prediction Rate vs m for Lasso Regularization\")\n",
        "plt.legend();"
      ],
      "metadata": {
        "colab": {
          "base_uri": "https://localhost:8080/",
          "height": 295
        },
        "id": "9IXHoK_QWAi-",
        "outputId": "5d7b3c1c-0743-452c-f7fa-edfc9ea30b03"
      },
      "execution_count": null,
      "outputs": [
        {
          "output_type": "display_data",
          "data": {
            "text/plain": [
              "<Figure size 432x288 with 1 Axes>"
            ],
            "image/png": "[encoded data removed]"
          },
          "metadata": {
            "needs_background": "light"
          }
        }
      ]
    },
    {
      "cell_type": "code",
      "source": [
        "plt.plot(ms_001_l1, costs_001_l1)\n",
        "plt.plot(ms_01_l1, costs_01_l1)\n",
        "plt.plot(ms_1_l1, costs_1_l1)\n",
        "plt.xlabel(\"m\")\n",
        "plt.ylabel(\"Cost\")\n",
        "plt.grid()\n",
        "plt.title(\"Cost vs m  for Lasso Regularization (L1)\");"
      ],
      "metadata": {
        "colab": {
          "base_uri": "https://localhost:8080/",
          "height": 295
        },
        "id": "k6Th3sBKWm-q",
        "outputId": "ad4ffe5b-f9f8-461f-ba5f-99bb76fa0c5a"
      },
      "execution_count": null,
      "outputs": [
        {
          "output_type": "display_data",
          "data": {
            "text/plain": [
              "<Figure size 432x288 with 1 Axes>"
            ],
            "image/png": "[encoded data removed]"
          },
          "metadata": {
            "needs_background": "light"
          }
        }
      ]
    },
    {
      "cell_type": "markdown",
      "metadata": {
        "id": "e1a8e785"
      },
      "source": [
        "# L2 Regularization (Ridge Regularization)\n",
        "New cost and gradient functions are introduced here, related to L2 Regularization:\n",
        "\n",
        "$$Cost_L2 = Cost + λ * ||β||_2$$\n",
        "\n",
        "$$Gradient_L2 = Gradient + λ * transpose(I) * β$$\n"
      ]
    },
    {
      "cell_type": "code",
      "source": [
        "def cost_l2(X, Y, beta, lamda):\n",
        "    return cost(X, Y, beta) + lamda*np.linalg.norm(beta[1:])\n",
        "\n",
        "def gradient_l2(X, Y, beta, lamda):\n",
        "    reg = lamda*beta\n",
        "    reg[0] = 0\n",
        "    return gradient(X, Y, beta) + lamda*reg"
      ],
      "metadata": {
        "id": "dILKD9zxWwCx"
      },
      "execution_count": null,
      "outputs": []
    },
    {
      "cell_type": "code",
      "source": [
        "def scan_sample_sizes(average_over, lamda):\n",
        "    num_samples = 100\n",
        "    theta = 0.1\n",
        "    cost_function = lambda X,Y,beta: cost_l2(X, Y, beta, lamda)\n",
        "    gradient_function = lambda X,Y,beta: gradient_l2(X, Y, beta, lamda)\n",
        "    sample_sizes = np.arange(10, 200, 8)\n",
        "    costs = np.zeros(len(sample_sizes), dtype=\"float64\")\n",
        "    prediction_rates = np.zeros(len(sample_sizes), dtype=\"float64\")\n",
        "    for i in range(len(sample_sizes)):\n",
        "        for j in range(average_over):\n",
        "            X, Y, bstar = create(theta, num_samples, sample_sizes[i])\n",
        "            b, tcosts= gd(X[:(num_samples*7)//10, :], Y[:(num_samples*7)//10, :], 1000, 1e-7, 0.2, gradient_function, cost_function)\n",
        "            costs[i] += tcosts[-1]\n",
        "            prediction_rates[i] += 1 - np.sum(np.abs(predict(X[(num_samples*7)//10:, :], b) - Y[(num_samples*7)//10:, :]))/((3*num_samples)//10)\n",
        "        costs[i] /= average_over\n",
        "        prediction_rates[i] /= average_over\n",
        "    return sample_sizes, costs, prediction_rates\n"
      ],
      "metadata": {
        "id": "p_cWxBxiZIAy"
      },
      "execution_count": null,
      "outputs": []
    },
    {
      "cell_type": "code",
      "source": [
        "m001, costs_001, prediction_001 = scan_sample_sizes(5, 0.01)\n",
        "m01, costs_01, prediction_01 = scan_sample_sizes(2, 0.1)\n",
        "m1, costs_1, prediction_1 = scan_sample_sizes(5, 0.1)"
      ],
      "metadata": {
        "id": "R_t4MaQ3ZZTX"
      },
      "execution_count": null,
      "outputs": []
    },
    {
      "cell_type": "code",
      "source": [
        "\n",
        "plt.plot(m001, prediction_001, label=\"$\\lambda=0.01$\")\n",
        "plt.plot(m01, prediction_01, label=\"$\\lambda=0.1$\")\n",
        "plt.plot(m1, prediction_1, label=\"$\\lambda=1$\")\n",
        "plt.ylim(0.45, 1)\n",
        "plt.xlabel(\"m\")\n",
        "plt.ylabel(\"Prediction Rate\")\n",
        "plt.grid()\n",
        "plt.title(\"Prediction Rate vs m for Ridge Regularization\")\n",
        "plt.legend();"
      ],
      "metadata": {
        "colab": {
          "base_uri": "https://localhost:8080/",
          "height": 295
        },
        "id": "piy8cLVzZdda",
        "outputId": "4e82e595-4e53-45a3-bac8-6ce7459fc02a"
      },
      "execution_count": null,
      "outputs": [
        {
          "output_type": "display_data",
          "data": {
            "text/plain": [
              "<Figure size 432x288 with 1 Axes>"
            ],
            "image/png": "[encoded data removed]"
          },
          "metadata": {
            "needs_background": "light"
          }
        }
      ]
    },
    {
      "cell_type": "markdown",
      "source": [
        "The results of the logistic regression model's performance indicate that it consistently reaches convergence, regardless of the use of Lasso Regularization. The observation that the regularization method doesn't appear to have a significant impact on the model's performance may be misleading in a real-world setting. In reality, regularization can play an important role in reducing overfitting and improving the generalization ability of the model. By disregarding the parameters that have only a weak correlation with the data, regularization helps to prevent the model from being influenced by noise or irrelevant factors in the input data. Thus, it is important to consider the use of regularization techniques when developing and evaluating the performance of machine learning models."
      ],
      "metadata": {
        "id": "akYn7T3bzXP6"
      }
    },
    {
      "cell_type": "code",
      "source": [
        "plt.plot(m001, costs_001)\n",
        "plt.plot(m01, costs_01)\n",
        "plt.plot(m1, costs_1)\n",
        "plt.xlabel(\"m\")\n",
        "plt.ylabel(\"Cost\")\n",
        "plt.grid()\n",
        "plt.title(\"Cost vs m for Ridge Regularization (L2)\")"
      ],
      "metadata": {
        "colab": {
          "base_uri": "https://localhost:8080/",
          "height": 313
        },
        "id": "IiHuMt-7Zubw",
        "outputId": "7e9fdde9-6164-44c5-e13c-dcdacf6ec383"
      },
      "execution_count": null,
      "outputs": [
        {
          "output_type": "execute_result",
          "data": {
            "text/plain": [
              "Text(0.5, 1.0, 'Cost vs m for Ridge Regularization (L2)')"
            ]
          },
          "metadata": {},
          "execution_count": 91
        },
        {
          "output_type": "display_data",
          "data": {
            "text/plain": [
              "<Figure size 432x288 with 1 Axes>"
            ],
            "image/png": "[encoded data removed]"
          },
          "metadata": {
            "needs_background": "light"
          }
        }
      ]
    },
    {
      "cell_type": "code",
      "source": [],
      "metadata": {
        "id": "y1MEkwFP1PDe"
      },
      "execution_count": null,
      "outputs": []
    },
    {
      "cell_type": "markdown",
      "source": [
        "###Using OOP for optimization of logistic and linear regression"
      ],
      "metadata": {
        "id": "VKArarEccudd"
      }
    },
    {
      "cell_type": "code",
      "source": [
        "import numpy as np\n",
        "\n",
        "class Regression:\n",
        "    def __init__(self):\n",
        "        self.beta = None\n",
        "        self.costs = None\n",
        "\n",
        "    def predict(self, X, beta):\n",
        "        return 1 / (1 + np.exp(-X @ beta))\n",
        "\n",
        "    def gradient(self, X, beta_guess, y):\n",
        "        return -X.T @ (y - self.predict(X, beta_guess)) / y.size\n",
        "\n",
        "    def cost(self, X, y, beta_guess):\n",
        "        p = self.predict(X, beta_guess)\n",
        "        return -(y.T @ np.log(p) + (1-y.T) @ np.log(1-p)) / y.size\n",
        "\n",
        "    def cost_function1(self, X, beta_guess, Y):\n",
        "        errors = X @ beta_guess - Y\n",
        "        return (errors.T @ errors) / len(errors)\n",
        "\n",
        "    def gradient1(self, X, beta_guess, Y):\n",
        "        return X.T @ (X @ beta_guess - Y) * 2 / len(Y)\n",
        "\n",
        "    def l_regression(self, X, Y, k, tau, alpha=0.001,linear=False):\n",
        "        beta_guess = np.random.random((X.shape[1], 1))\n",
        "        costs = np.full(k, 0.)\n",
        "        for i in range(0, k):\n",
        "          if linear==False:\n",
        "            beta_guess -= self.gradient(X, beta_guess, Y) * alpha\n",
        "            costs[i] = self.cost(X, beta_guess, Y)\n",
        "          else:\n",
        "            beta_guess -= self.gradient1(X, beta_guess, Y) * alpha\n",
        "            costs[i] = self.cost_function1(X, beta_guess, Y)\n",
        "          if i > 0 and np.abs(costs[i-1] - costs[i]) < tau:\n",
        "              break\n",
        "        self.beta = beta_guess\n",
        "        self.costs = costs\n",
        "        return self.beta, self.costs"
      ],
      "metadata": {
        "id": "fHO7vw96kXMm"
      },
      "execution_count": null,
      "outputs": []
    },
    {
      "cell_type": "markdown",
      "source": [
        "This is a Python class that implements a logistic and linear regression model based on weather linear is True or False. It has various methods for predicting outputs based on input data, calculating cost and gradient, and fitting the model to the data. The model can be fit using either logistic regression or linear regression, depending on the value of the linear argument in the l_regression method. The stopping criteria for the gradient descent optimization is based on either the number of iterations or the change in cost between consecutive iterations, whichever occurs first. The final values of the model parameters and the costs are stored as class attributes."
      ],
      "metadata": {
        "id": "zn-iEjUz0_5P"
      }
    },
    {
      "cell_type": "code",
      "source": [],
      "metadata": {
        "id": "Y5Fmne0y2xg5"
      },
      "execution_count": null,
      "outputs": []
    }
  ]
}